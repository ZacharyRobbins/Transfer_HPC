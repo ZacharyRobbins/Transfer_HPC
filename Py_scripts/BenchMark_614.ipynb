{
 "cells": [
  {
   "cell_type": "code",
   "execution_count": 102,
   "id": "7bec0014",
   "metadata": {},
   "outputs": [],
   "source": [
    "import pandas as pd\n",
    "import geopandas as gpd\n",
    "import numpy as np \n",
    "import matplotlib.pyplot as plt\n",
    "import xarray as xr\n",
    "from IPython.core.interactiveshell import InteractiveShell\n",
    "InteractiveShell.ast_node_interactivity = \"all\"\n",
    "plt.rc('figure', figsize=(12, 10))\n",
    "CB91_Blue = '#2CBDFE'\n",
    "CB91_Green = '#47DBCD'\n",
    "CB91_Pink = '#F3A0F2'\n",
    "CB91_Purple = '#9D2EC5'\n",
    "CB91_Violet = '#661D98'\n",
    "CB91_Amber = '#F5B14C'\n",
    "CB_ex1='#8dd3c7'\n",
    "CB_ex2='#bebada'\n",
    "CB_ex3='#ffffb3'\n",
    "CB_ex4='#fb8072'\n",
    "CB_ex5='#fdb462'\n",
    "color_list = [CB91_Blue, CB91_Pink, CB91_Green, CB91_Amber,\n",
    "              CB91_Purple, CB91_Violet,CB_ex1,CB_ex2,CB_ex3,CB_ex4,CB_ex5]\n",
    "plt.rcParams['axes.prop_cycle'] = plt.cycler(color=color_list)\n",
    "plt.rcParams.update({'font.size': 22})"
   ]
  },
  {
   "cell_type": "code",
   "execution_count": 103,
   "id": "8f7627b3",
   "metadata": {},
   "outputs": [
    {
     "name": "stdout",
     "output_type": "stream",
     "text": [
      "DatetimeIndex(['1950-02-01', '1950-03-01', '1950-04-01', '1950-05-01',\n",
      "               '1950-06-01', '1950-07-01', '1950-08-01', '1950-09-01',\n",
      "               '1950-10-01', '1950-11-01',\n",
      "               ...\n",
      "               '1974-04-01', '1974-05-01', '1974-06-01', '1974-07-01',\n",
      "               '1974-08-01', '1974-09-01', '1974-10-01', '1974-11-01',\n",
      "               '1974-12-01', '1975-01-01'],\n",
      "              dtype='datetime64[ns]', length=300, freq=None)\n"
     ]
    },
    {
     "name": "stderr",
     "output_type": "stream",
     "text": [
      "<ipython-input-103-e892ec7bffa9>:7: DeprecationWarning: `np.int` is a deprecated alias for the builtin `int`. To silence this warning, use `int` by itself. Doing this will not modify any behavior and is safe. When replacing `np.int`, you may wish to use e.g. `np.int64` or `np.int32` to specify the precision. If you wish to review your current use, check the release note link for additional information.\n",
      "Deprecated in NumPy 1.20; for more details and guidance: https://numpy.org/devdocs/release/1.20.0-notes.html#deprecations\n",
      "  Fates_xr=Fates_xr.isel(time=slice(0,np.int(len(test)/2)))\n",
      "<ipython-input-103-e892ec7bffa9>:12: RuntimeWarning: Converting a CFTimeIndex with dates from a non-standard calendar, 'noleap', to a pandas.DatetimeIndex, which uses dates from the standard calendar.  This may lead to subtle errors in operations that depend on the length of time between dates.\n",
      "  Time=Fates_xr.indexes['time'].to_datetimeindex()\n"
     ]
    }
   ],
   "source": [
    "data_path = \"C:/Users/345578/Documents/GitHub/Transfer_HPC/Secondtryfire.nc\"\n",
    "\n",
    "Fates_xr  = xr.open_dataset(data_path)  \n",
    "### Set up labels \n",
    "test=Fates_xr.coords['time'].values\n",
    "#print()\n",
    "Fates_xr=Fates_xr.isel(time=slice(0,np.int(len(test)/2)))\n",
    "\n",
    "#Fates_xr=Fates_xr.isel(time=slice(240,260))\n",
    "### Set up labels \n",
    "Ages=Fates_xr.coords['fates_levage'].values\n",
    "Time=Fates_xr.indexes['time'].to_datetimeindex()\n",
    "FuelClass=Fates_xr.indexes['fates_levfuel'].values  \n",
    "Canopy=Fates_xr.indexes['fates_levcan'].values  \n",
    "nscls_bins = len(Fates_xr.variables['fates_levscls'])\n",
    "npfts = len(Fates_xr.variables['fates_levpft'])\n",
    "nage_bins = len(Fates_xr.variables['fates_levage'])\n",
    "print(Time)"
   ]
  },
  {
   "cell_type": "code",
   "execution_count": 14,
   "id": "e9488fe2",
   "metadata": {},
   "outputs": [
    {
     "name": "stdout",
     "output_type": "stream",
     "text": [
      "Study Area is [54814.25139827]km2\n"
     ]
    }
   ],
   "source": [
    "\n",
    "Ign_Dir='C:/Users/345578/Desktop/California_chaparral_project/Validation_Data/Ignitions/'\n",
    "StudyArea=gpd.read_file(\n",
    "    \"C:/Users/345578/Desktop/California_chaparral_project/StudyArea_climate.shp\"\n",
    "   ).to_crs({'init': 'epsg:3857'})\n",
    "#print(StudyArea.crs)\n",
    "Area=StudyArea['geometry'].area.values\n",
    "print(\"Study Area is \"+str(Area/(10**6))+\"km2\")"
   ]
  },
  {
   "cell_type": "markdown",
   "id": "68525f38",
   "metadata": {},
   "source": [
    "### Ignitions per year. "
   ]
  },
  {
   "cell_type": "code",
   "execution_count": 15,
   "id": "742f62e8",
   "metadata": {
    "scrolled": true
   },
   "outputs": [
    {
     "name": "stdout",
     "output_type": "stream",
     "text": [
      "           peryear         perm2    perkm2         IRI\n",
      "FIRE_YEAR                                             \n",
      "1992           378  6.896017e-09  0.006896  145.011247\n",
      "1993           416  7.589267e-09  0.007589  131.765027\n",
      "1994           391  7.133181e-09  0.007133  140.189901\n",
      "1995           460  8.391978e-09  0.008392  119.161416\n",
      "1996           567  1.034403e-08  0.010344   96.674165\n",
      "1997           341  6.221010e-09  0.006221  160.745605\n",
      "1998           282  5.144647e-09  0.005145  194.376778\n",
      "1999           289  5.272351e-09  0.005272  189.668690\n",
      "2000           193  3.520982e-09  0.003521  284.011665\n",
      "2001           229  4.177746e-09  0.004178  239.363543\n",
      "2002           251  4.579101e-09  0.004579  218.383472\n",
      "2003           238  4.341937e-09  0.004342  230.311981\n",
      "2004           231  4.214233e-09  0.004214  237.291132\n",
      "2005           356  6.494661e-09  0.006495  153.972616\n",
      "2006           349  6.366957e-09  0.006367  157.060892\n",
      "2007           275  5.016943e-09  0.005017  199.324551\n",
      "2008           265  4.834509e-09  0.004835  206.846232\n",
      "2009           307  5.600733e-09  0.005601  178.548050\n",
      "2010           289  5.272351e-09  0.005272  189.668690\n",
      "2011           304  5.546003e-09  0.005546  180.310037\n",
      "2012           216  3.940581e-09  0.003941  253.769682\n",
      "2013           231  4.214233e-09  0.004214  237.291132\n",
      "2014           113  2.061508e-09  0.002062  485.081871\n",
      "2015           131  2.389889e-09  0.002390  418.429400\n",
      "2016           143  2.608811e-09  0.002609  383.316443\n",
      "2017           319  5.819654e-09  0.005820  171.831509\n",
      "2018           239  4.360180e-09  0.004360  229.348332\n",
      "0.00527235148939966\n"
     ]
    }
   ],
   "source": [
    "### Ignitions per year. \n",
    "Ign =gpd.read_file(Ign_Dir+\"KS_subbed.gpkg\")\n",
    "nIgnbyYear=(Ign\n",
    "    .query('FIRE_SIZE >1')\n",
    "    .groupby('FIRE_YEAR')\n",
    "    ['OBJECTID'].count()\n",
    "    )\n",
    "nIgnbyYear=pd.DataFrame(nIgnbyYear).rename(columns={'OBJECTID':'peryear'})\n",
    "nIgnbyYear[\"perm2\"]=nIgnbyYear['peryear']/Area\n",
    "nIgnbyYear[\"perkm2\"]=nIgnbyYear[\"perm2\"]*10**6\n",
    "nIgnbyYear[\"IRI\"]=1/nIgnbyYear[\"perkm2\"]\n",
    "print(nIgnbyYear)\n",
    "print(nIgnbyYear[\"perkm2\"].mean())"
   ]
  },
  {
   "cell_type": "markdown",
   "id": "da25473d",
   "metadata": {},
   "source": [
    "Total Ignitions\n",
    "* Mean ignition frequency :0.00527 km<sup>-1</sup> year<sup>-1</sup>\n",
    "* IRI km<sup>-1</sup>  189 years"
   ]
  },
  {
   "cell_type": "code",
   "execution_count": 34,
   "id": "b6b9a536",
   "metadata": {
    "scrolled": true
   },
   "outputs": [
    {
     "name": "stdout",
     "output_type": "stream",
     "text": [
      "0.0002154128170409496\n",
      "6791.599340286218\n"
     ]
    }
   ],
   "source": [
    "nIgnbyYear=(Ign\n",
    "    .query('NWCG_CAUSE_CLASSIFICATION == \"Natural\"')\n",
    "    .query('FIRE_SIZE >1')\n",
    "    .groupby('FIRE_YEAR')\n",
    "    ['OBJECTID'].count()\n",
    "    )\n",
    "nIgnbyYear=pd.DataFrame(nIgnbyYear).rename(columns={'OBJECTID':'peryear'})\n",
    "nIgnbyYear[\"perm2\"]=nIgnbyYear['peryear']/Area\n",
    "nIgnbyYear[\"perkm2\"]=nIgnbyYear[\"perm2\"]*10**6\n",
    "nIgnbyYear[\"IRI\"]=1/nIgnbyYear[\"perkm2\"]\n",
    "#print(nIgnbyYear)\n",
    "print(nIgnbyYear[\"perkm2\"].mean())\n",
    "print(nIgnbyYear[\"IRI\"].mean())"
   ]
  },
  {
   "cell_type": "markdown",
   "id": "860b7660",
   "metadata": {},
   "source": [
    "Lightning Ignitions\n",
    "\n",
    "* Mean ignition frequency :0.000215 km<sup>-1</sup> year<sup>-1</sup>\n",
    "* IRI km<sup>-1</sup>  6791 years"
   ]
  },
  {
   "cell_type": "markdown",
   "id": "d9ed0207",
   "metadata": {},
   "source": [
    "###  Fire days per year "
   ]
  },
  {
   "cell_type": "code",
   "execution_count": 37,
   "id": "1e7d93cf",
   "metadata": {
    "scrolled": false
   },
   "outputs": [
    {
     "name": "stdout",
     "output_type": "stream",
     "text": [
      "0.008239949559557713\n",
      "135.51050193941043\n"
     ]
    }
   ],
   "source": [
    "Ign['FireDays']=1+(Ign['CONT_DOY']-Ign['DISCOVERY_DOY'])\n",
    "Ign['FireDays']=Ign['FireDays'].fillna(1)\n",
    "\n",
    "Ign['FireDays'].values[Ign['FireDays'].values < 0] = Ign['FireDays'].values[Ign['FireDays'].values < 0]+360\n",
    "\n",
    "nFiredaysperYear=(Ign\n",
    "    .query('FIRE_SIZE >1')\n",
    "    .groupby('FIRE_YEAR')\n",
    "    ['FireDays'].sum()\n",
    "    )\n",
    "\n",
    "nFiredaysperYear=pd.DataFrame(nFiredaysperYear).rename(columns={'FireDays':'peryear'})\n",
    "nFiredaysperYear[\"perm2\"]=nFiredaysperYear['peryear']/Area\n",
    "nFiredaysperYear[\"perkm2\"]=nFiredaysperYear[\"perm2\"]*10**6\n",
    "nFiredaysperYear[\"IRI\"]=1/nFiredaysperYear[\"perkm2\"]\n",
    "#print(nFiredaysperYear)\n",
    "print(nFiredaysperYear[\"perkm2\"].mean())\n",
    "print(nFiredaysperYear[\"IRI\"].mean())"
   ]
  },
  {
   "cell_type": "markdown",
   "id": "5d08c968",
   "metadata": {},
   "source": [
    "Total fire days per year\n",
    "* Mean fire day  frequency :0.0082 km-1 year-1\n",
    "* IRI km-1 135.51 years\n"
   ]
  },
  {
   "cell_type": "code",
   "execution_count": 39,
   "id": "272532be",
   "metadata": {
    "scrolled": false
   },
   "outputs": [
    {
     "name": "stdout",
     "output_type": "stream",
     "text": [
      "0.0004813459038765193\n",
      "3927.8124877608707\n"
     ]
    }
   ],
   "source": [
    "Ign['FireDays']=1+(Ign['CONT_DOY']-Ign['DISCOVERY_DOY'])\n",
    "Ign['FireDays']=Ign['FireDays'].fillna(1)\n",
    "\n",
    "Ign['FireDays'].values[Ign['FireDays'].values < 0] = Ign['FireDays'].values[Ign['FireDays'].values < 0]+360\n",
    "\n",
    "nFiredaysperYear=(Ign\n",
    "    .query('NWCG_CAUSE_CLASSIFICATION == \"Natural\"')              \n",
    "    .query('FIRE_SIZE >1')\n",
    "    .groupby('FIRE_YEAR')\n",
    "    ['FireDays'].sum()\n",
    "    )\n",
    "\n",
    "nFiredaysperYear=pd.DataFrame(nFiredaysperYear).rename(columns={'FireDays':'peryear'})\n",
    "nFiredaysperYear[\"perm2\"]=nFiredaysperYear['peryear']/Area\n",
    "nFiredaysperYear[\"perkm2\"]=nFiredaysperYear[\"perm2\"]*10**6\n",
    "nFiredaysperYear[\"IRI\"]=1/nFiredaysperYear[\"perkm2\"]\n",
    "#print(nFiredaysperYear)\n",
    "print(nFiredaysperYear[\"perkm2\"].mean())\n",
    "print(nFiredaysperYear[\"IRI\"].mean())"
   ]
  },
  {
   "cell_type": "markdown",
   "id": "cf7315c4",
   "metadata": {},
   "source": [
    "Lightning fire days per year\n",
    "* Mean fire day  frequency :0.0004 km-1 year-1\n",
    "* IRI km-1 3927.81 years"
   ]
  },
  {
   "cell_type": "markdown",
   "id": "2ea3b702",
   "metadata": {},
   "source": [
    "### FRP"
   ]
  },
  {
   "cell_type": "code",
   "execution_count": 112,
   "id": "542e68dd",
   "metadata": {
    "scrolled": true
   },
   "outputs": [
    {
     "data": {
      "text/plain": [
       "4556573.15"
      ]
     },
     "execution_count": 112,
     "metadata": {},
     "output_type": "execute_result"
    },
    {
     "name": "stdout",
     "output_type": "stream",
     "text": [
      "[82.69382744]\n",
      "FIRE_YEAR\n",
      "1992    512.164001\n",
      "1993     69.982206\n",
      "1994    180.705072\n",
      "1995    139.026610\n",
      "1996     95.366679\n",
      "1997    150.658020\n",
      "1998    257.769374\n",
      "1999    104.631406\n",
      "2000    454.950997\n",
      "2001    428.683324\n",
      "2002     60.288468\n",
      "2003     18.789773\n",
      "2004    134.318456\n",
      "2005    215.923353\n",
      "2006     39.743232\n",
      "2007     17.663628\n",
      "2008    161.954835\n",
      "2009     63.207584\n",
      "2010    496.471907\n",
      "2011    584.288829\n",
      "2012    360.406117\n",
      "2013     99.495697\n",
      "2014    423.996117\n",
      "2015    196.201229\n",
      "2016     88.843724\n",
      "2017     34.480380\n",
      "2018     79.821753\n",
      "Name: FRP, dtype: float64\n"
     ]
    }
   ],
   "source": [
    "Area_Burned_Year=(Ign\n",
    "    .query('FIRE_SIZE >1')\n",
    "    .groupby('FIRE_YEAR')\n",
    "    ['FIRE_SIZE'].sum()\n",
    "    )\n",
    "Area_Burned_Year=pd.DataFrame(Area_Burned_Year).rename(columns={'FIRE_SIZE':'Acperyear'})\n",
    "Area_Burned_Year[\"haperyear\"]=Area_Burned_Year['Acperyear']/2.54\n",
    "Area_Burned_Year['FRP']=Area/(Area_Burned_Year[\"haperyear\"]*10000)\n",
    "\n",
    "meanFRP=(Area*27)/(sum(Area_Burned_Year[\"haperyear\"])*10000)\n",
    "Ign ['FIRE_SIZE'].sum()\n",
    "print(meanFRP)\n",
    "print(Area_Burned_Year['FRP'])"
   ]
  },
  {
   "cell_type": "code",
   "execution_count": 125,
   "id": "5b86a19b",
   "metadata": {},
   "outputs": [],
   "source": [
    "Light_Burned_Year=(Ign\n",
    "    .query('NWCG_CAUSE_CLASSIFICATION == \"Natural\"')               \n",
    "    .query('FIRE_SIZE >1')\n",
    "    .groupby('FIRE_YEAR')\n",
    "    ['FIRE_SIZE'].sum()\n",
    "    )\n",
    "Light_Burned_Year=pd.DataFrame(Light_Burned_Year).rename(columns={'FIRE_SIZE':'Acperyear'})\n",
    "Light_Burned_Year[\"haperyear\"]=Light_Burned_Year['Acperyear']/2.54\n",
    "Light_Burned_Year['FRP']=Area/(Light_Burned_Year[\"haperyear\"]*10000)\n",
    "meanFRP=(Area*27)/(sum(Light_Burned_Year[\"haperyear\"])*10000)"
   ]
  },
  {
   "cell_type": "markdown",
   "id": "8d98cdb6",
   "metadata": {},
   "source": [
    "Estimated Fire Rotation period 1992-2018 is 82 years.\n",
    "* The range in a given year is between 18 years (2003) and 590 (2011)."
   ]
  },
  {
   "cell_type": "code",
   "execution_count": 64,
   "id": "f0f14bf9",
   "metadata": {
    "scrolled": false
   },
   "outputs": [
    {
     "data": {
      "text/plain": [
       "<matplotlib.legend.Legend at 0x259899eb8b0>"
      ]
     },
     "execution_count": 64,
     "metadata": {},
     "output_type": "execute_result"
    },
    {
     "data": {
      "image/png": "[encoded data removed]",
      "text/plain": [
       "<Figure size 864x720 with 1 Axes>"
      ]
     },
     "metadata": {
      "needs_background": "light"
     },
     "output_type": "display_data"
    }
   ],
   "source": [
    "fig, ax = plt.subplots(figsize=(12, 10))\n",
    "plt.rcParams.update({'font.size': 22})\n",
    "plt.title(\"Area burned per year\", fontsize=20)\n",
    "plt.plot(Area_Burned_Year[\"haperyear\"],label=\"Total\")\n",
    "plt.plot(Light_Burned_Year[\"haperyear\"],label=\"Lightning\")\n",
    "plt.plot(Area_Burned_Year[\"haperyear\"]-Light_Burned_Year[\"haperyear\"],label=\"Human accidental\")\n",
    "ax.set_xlabel(\"Year\", labelpad=15, fontsize=20, color=\"#333533\");\n",
    "ax.set_ylabel(\"Hectares burned\", labelpad=15, fontsize=20, color=\"#333533\");\n",
    "plt.legend(bbox_to_anchor=(1.04,1), loc=\"upper left\",prop={'size': 20})\n"
   ]
  },
  {
   "cell_type": "code",
   "execution_count": null,
   "id": "6f56d67b",
   "metadata": {},
   "outputs": [],
   "source": [
    "Fates unit area is km2 and the value is 40592444"
   ]
  },
  {
   "cell_type": "code",
   "execution_count": 117,
   "id": "eeb52f51",
   "metadata": {
    "scrolled": true
   },
   "outputs": [
    {
     "data": {
      "text/plain": [
       "FIRE_YEAR\n",
       "1992    512.164001\n",
       "1993     69.982206\n",
       "1994    180.705072\n",
       "1995    139.026610\n",
       "1996     95.366679\n",
       "1997    150.658020\n",
       "1998    257.769374\n",
       "1999    104.631406\n",
       "2000    454.950997\n",
       "2001    428.683324\n",
       "2002     60.288468\n",
       "2003     18.789773\n",
       "2004    134.318456\n",
       "2005    215.923353\n",
       "2006     39.743232\n",
       "2007     17.663628\n",
       "2008    161.954835\n",
       "2009     63.207584\n",
       "2010    496.471907\n",
       "2011    584.288829\n",
       "2012    360.406117\n",
       "2013     99.495697\n",
       "2014    423.996117\n",
       "2015    196.201229\n",
       "2016     88.843724\n",
       "2017     34.480380\n",
       "2018     79.821753\n",
       "Name: FRP, dtype: float64"
      ]
     },
     "execution_count": 117,
     "metadata": {},
     "output_type": "execute_result"
    }
   ],
   "source": [
    "Area_Burned_Year['FRP']"
   ]
  },
  {
   "cell_type": "code",
   "execution_count": 124,
   "id": "8a92b15d",
   "metadata": {
    "scrolled": false
   },
   "outputs": [
    {
     "data": {
      "text/plain": [
       "Text(0.5, 1.0, 'Fire rotation Period')"
      ]
     },
     "execution_count": 124,
     "metadata": {},
     "output_type": "execute_result"
    },
    {
     "data": {
      "text/plain": [
       "[<matplotlib.lines.Line2D at 0x259944bb400>]"
      ]
     },
     "execution_count": 124,
     "metadata": {},
     "output_type": "execute_result"
    },
    {
     "data": {
      "text/plain": [
       "(0.0, 4000.0)"
      ]
     },
     "execution_count": 124,
     "metadata": {},
     "output_type": "execute_result"
    },
    {
     "name": "stdout",
     "output_type": "stream",
     "text": [
      "                       NI\n",
      "1950-12-31  900998.250000\n",
      "1951-12-31    3681.710449\n",
      "1952-12-31     869.886719\n",
      "1953-12-31     464.496185\n",
      "1954-12-31     287.072449\n",
      "1955-12-31     408.206604\n",
      "1956-12-31     865.875977\n",
      "1957-12-31    1416.004395\n",
      "1958-12-31     869.935242\n",
      "1959-12-31     649.031860\n",
      "1960-12-31     694.589905\n",
      "1961-12-31     710.199707\n",
      "1962-12-31     491.312927\n",
      "1963-12-31     495.747375\n",
      "1964-12-31     306.143982\n",
      "1965-12-31     459.427704\n",
      "1966-12-31     773.661926\n",
      "1967-12-31    1298.198486\n",
      "1968-12-31     735.124084\n",
      "1969-12-31     506.038910\n",
      "1970-12-31     578.206482\n",
      "1971-12-31     647.373413\n",
      "1972-12-31     450.182190\n",
      "1973-12-31     468.836578\n",
      "1974-12-31     288.491974\n",
      "1975-12-31  354717.468750\n"
     ]
    },
    {
     "data": {
      "image/png": "[encoded data removed]",
      "text/plain": [
       "<Figure size 648x504 with 1 Axes>"
      ]
     },
     "metadata": {
      "needs_background": "light"
     },
     "output_type": "display_data"
    }
   ],
   "source": [
    "var=np.array(Fates_xr['FIRE_AREA'])\n",
    "var=pd.DataFrame({'NI':var.flatten()},index=Time).groupby(pd.Grouper(freq=\"y\")).sum()\n",
    "fig, ax = plt.subplots(figsize=(9, 7))\n",
    "plt.title(\"Fire rotation Period\", fontsize=16)\n",
    "#plt.axhline(y=1.58, color='r', linestyle='-')\n",
    "#plt.axhline(y= 82, color='r', linestyle='-')\n",
    "plt.plot(1/var)\n",
    "plt.ylim(0,4000)\n",
    "print(1/var)"
   ]
  },
  {
   "cell_type": "code",
   "execution_count": null,
   "id": "ef123fe0",
   "metadata": {},
   "outputs": [],
   "source": []
  },
  {
   "cell_type": "code",
   "execution_count": null,
   "id": "d3c21a63",
   "metadata": {},
   "outputs": [],
   "source": [
    "var=np.array(Fates_xr['FIRE_AREA'])\n",
    "var=pd.DataFrame({'NI':var.flatten()},index=Time).groupby(pd.Grouper(freq=\"y\")).mean()\n",
    "fig, ax = plt.subplots(figsize=(9, 7))\n",
    "plt.title(\"Fraction burned annually\", fontsize=16)\n",
    "#plt.axhline(y=1.58, color='r', linestyle='-')\n",
    "#plt.axhline(y=8.17, color='r', linestyle='-')\n",
    "plt.plot(var)"
   ]
  },
  {
   "cell_type": "code",
   "execution_count": 128,
   "id": "160dd849",
   "metadata": {
    "scrolled": false
   },
   "outputs": [
    {
     "data": {
      "text/plain": [
       "Text(0.5, 1.0, 'Fire Size Distribution')"
      ]
     },
     "execution_count": 128,
     "metadata": {},
     "output_type": "execute_result"
    },
    {
     "data": {
      "text/plain": [
       "<BarContainer object of 9 artists>"
      ]
     },
     "execution_count": 128,
     "metadata": {},
     "output_type": "execute_result"
    },
    {
     "data": {
      "text/plain": [
       "Text(0.5, 0, 'Year')"
      ]
     },
     "execution_count": 128,
     "metadata": {},
     "output_type": "execute_result"
    },
    {
     "data": {
      "text/plain": [
       "Text(0, 0.5, 'Percent of total fires')"
      ]
     },
     "execution_count": 128,
     "metadata": {},
     "output_type": "execute_result"
    },
    {
     "data": {
      "text/plain": [
       "Text(0, 76.19535956928598, '76.1954')"
      ]
     },
     "execution_count": 128,
     "metadata": {},
     "output_type": "execute_result"
    },
    {
     "data": {
      "text/plain": [
       "Text(1, 12.690680681963851, '12.6907')"
      ]
     },
     "execution_count": 128,
     "metadata": {},
     "output_type": "execute_result"
    },
    {
     "data": {
      "text/plain": [
       "Text(2, 3.0637097807973337, '3.0637')"
      ]
     },
     "execution_count": 128,
     "metadata": {},
     "output_type": "execute_result"
    },
    {
     "data": {
      "text/plain": [
       "Text(3, 4.576336367132419, '4.5763')"
      ]
     },
     "execution_count": 128,
     "metadata": {},
     "output_type": "execute_result"
    },
    {
     "data": {
      "text/plain": [
       "Text(4, 1.2049737213177798, '1.205')"
      ]
     },
     "execution_count": 128,
     "metadata": {},
     "output_type": "execute_result"
    },
    {
     "data": {
      "text/plain": [
       "Text(5, 1.4100756313293168, '1.4101')"
      ]
     },
     "execution_count": 128,
     "metadata": {},
     "output_type": "execute_result"
    },
    {
     "data": {
      "text/plain": [
       "Text(6, 0.46147929752595823, '0.4615')"
      ]
     },
     "execution_count": 128,
     "metadata": {},
     "output_type": "execute_result"
    },
    {
     "data": {
      "text/plain": [
       "Text(7, 0.34610947314446866, '0.3461')"
      ]
     },
     "execution_count": 128,
     "metadata": {},
     "output_type": "execute_result"
    },
    {
     "data": {
      "text/plain": [
       "Text(8, 0.05127547750288425, '0.0513')"
      ]
     },
     "execution_count": 128,
     "metadata": {},
     "output_type": "execute_result"
    },
    {
     "data": {
      "image/png": "[encoded data removed]",
      "text/plain": [
       "<Figure size 1440x720 with 1 Axes>"
      ]
     },
     "metadata": {
      "needs_background": "light"
     },
     "output_type": "display_data"
    }
   ],
   "source": [
    "### Fire size distribution ###\n",
    "Ign['FIRE_SIZE_ha']=Ign['FIRE_SIZE']/2.54\n",
    "bins = [0, 10, 50,100,500,1000,5000, 10000,50000,100000]\n",
    "labels = [1,2,3,4,5,6,7,8,9]\n",
    "Ign['FireClass'] = pd.cut(Ign['FIRE_SIZE_ha'], bins=bins, labels=labels)\n",
    "Fire_size_Class=pd.DataFrame(Ign\n",
    "    .query('FIRE_SIZE >1')\n",
    "    .groupby('FireClass')\n",
    "    ['FireClass'].count()\n",
    "    )\n",
    "names=[\"0-10\", \"11-50\", \"51-100\",\"101-500\",\"501-1000\",\"1001-5000\",\"5001-10000\", \"10001-50000\",\"50001+\"]\n",
    "Fire_size_Class['Percentage']=100*Fire_size_Class['FireClass']/sum(Fire_size_Class['FireClass'])\n",
    "Fire_size_Class['LowerBound']=[0, 10, 50,100,500,1000,5000, 10000,50000]\n",
    "#print(Fire_size_Class['Percentage'])\n",
    "plt.rcParams.update({'font.size': 16})\n",
    "fig, ax = plt.subplots(figsize=(20, 10))\n",
    "plt.title(\"Fire Size Distribution\", fontsize=20)\n",
    "plt.bar(names,Fire_size_Class['Percentage'], width=0.8)\n",
    "ax.set_xlabel(\"Year\", labelpad=15, fontsize=20, color=\"#333533\");\n",
    "ax.set_ylabel(\"Percent of total fires\", labelpad=15, fontsize=20, color=\"#333533\");\n",
    "for i in range(len(Fire_size_Class['Percentage'])):\n",
    "    plt.annotate(str(np.round(Fire_size_Class['Percentage'], 4)[i]), xy=(i,Fire_size_Class['Percentage'][i]), ha='center', va='bottom')\n",
    "plt.show()"
   ]
  },
  {
   "cell_type": "code",
   "execution_count": 97,
   "id": "14caefc7",
   "metadata": {},
   "outputs": [
    {
     "data": {
      "text/plain": [
       "FireClass\n",
       "1    76.1954\n",
       "2    12.6907\n",
       "3     3.0637\n",
       "4     4.5763\n",
       "5     1.2050\n",
       "6     1.4101\n",
       "7     0.4615\n",
       "8     0.3461\n",
       "9     0.0513\n",
       "Name: Percentage, dtype: float64"
      ]
     },
     "execution_count": 97,
     "metadata": {},
     "output_type": "execute_result"
    }
   ],
   "source": []
  }
 ],
 "metadata": {
  "kernelspec": {
   "display_name": "Python 3",
   "language": "python",
   "name": "python3"
  },
  "language_info": {
   "codemirror_mode": {
    "name": "ipython",
    "version": 3
   },
   "file_extension": ".py",
   "mimetype": "text/x-python",
   "name": "python",
   "nbconvert_exporter": "python",
   "pygments_lexer": "ipython3",
   "version": "3.8.10"
  }
 },
 "nbformat": 4,
 "nbformat_minor": 5
}
