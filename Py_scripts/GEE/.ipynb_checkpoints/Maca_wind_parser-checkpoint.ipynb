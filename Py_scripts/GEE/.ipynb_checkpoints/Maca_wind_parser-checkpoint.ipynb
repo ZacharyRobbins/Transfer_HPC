{
 "cells": [
  {
   "cell_type": "code",
   "execution_count": 3,
   "id": "057f122d",
   "metadata": {},
   "outputs": [],
   "source": [
    "import os\n",
    "proxy = \"http://proxyout.lanl.gov:8080\"\n",
    "\n",
    "os.environ['http_proxy'] = proxy \n",
    "os.environ['HTTP_PROXY'] = proxy\n",
    "os.environ['https_proxy'] = proxy\n",
    "os.environ['HTTPS_PROXY'] = proxy"
   ]
  },
  {
   "cell_type": "code",
   "execution_count": 17,
   "id": "14743284",
   "metadata": {
    "scrolled": true
   },
   "outputs": [],
   "source": [
    "import xarray as xr\n",
    "import numpy as np\n",
    "\n",
    "uas = xr.open_dataset('http://thredds.northwestknowledge.net:8080/thredds/dodsC/agg_macav2metdata_uas_BNU-ESM_r1i1p1_rcp45_2006_2099_CONUS_daily.nc')\n",
    "vas= xr.open_dataset('http://thredds.northwestknowledge.net:8080/thredds/dodsC/agg_macav2metdata_vas_BNU-ESM_r1i1p1_rcp45_2006_2099_CONUS_daily.nc')"
   ]
  },
  {
   "cell_type": "code",
   "execution_count": 26,
   "id": "f50e3ffe",
   "metadata": {},
   "outputs": [
    {
     "name": "stdout",
     "output_type": "stream",
     "text": [
      "You selected the following x,y location: 241.0194091796875 35.0212516784668\n",
      "You selected the following x,y location: 241.0194091796875 35.0212516784668\n",
      "KeysView(<xarray.Dataset>\n",
      "Dimensions:         (crs: 1, time: 34333)\n",
      "Coordinates:\n",
      "    lat             float64 35.02\n",
      "  * crs             (crs) int32 1\n",
      "    lon             float64 241.0\n",
      "  * time            (time) datetime64[ns] 2006-01-01 2006-01-02 ... 2099-12-31\n",
      "Data variables:\n",
      "    northward_wind  (time) float32 ...\n",
      "Attributes: (12/46)\n",
      "    description:                     Multivariate Adaptive Constructed Analog...\n",
      "    id:                              MACAv2-METDATA\n",
      "    naming_authority:                edu.uidaho.reacch\n",
      "    Metadata_Conventions:            Unidata Dataset Discovery v1.0\n",
      "    Metadata_Link:                   \n",
      "    cdm_data_type:                   GRID\n",
      "    ...                              ...\n",
      "    contributor_role:                Postdoctoral Fellow\n",
      "    publisher_name:                  \n",
      "    publisher_email:                 \n",
      "    publisher_url:                   \n",
      "    license:                         Creative Commons CC0 1.0 Universal Dedic...\n",
      "    coordinate_system:               WGS84,EPSG:4326)\n"
     ]
    }
   ],
   "source": [
    "def OnePoint(Narray,nlat,nlon):\n",
    "    def LATParser(Narray,lu):\n",
    "        lat=Narray.lat.values\n",
    "        lat_m=np.min(lat)\n",
    "        lat_M=np.max(lat)\n",
    "        ret=round((lu-lat_m)/((lat_M-lat_m)/len(lat)))\n",
    "        return ret \n",
    "    def LONParser(Narray,lu):\n",
    "        lat=Narray.lon.values\n",
    "        lat_m=np.min(lat)\n",
    "        lat_M=np.max(lat)\n",
    "        ret=round((lu-lat_m)/((lat_M-lat_m)/len(lat)))\n",
    "        return ret \n",
    "    latitude  = Narray.lat.values[LATParser(max_temp_xr,nlat)]\n",
    "    longitude = Narray.lon.values[LONParser(max_temp_xr,nlon)]\n",
    "    print(\"You selected the following x,y location:\", longitude, latitude)\n",
    "    onepoint=Narray.sel(lat=latitude,lon=longitude)\n",
    "    return(onepoint)\n",
    "\n",
    "\n",
    "\n",
    "Time=np.array(uas.indexes['time'])\n",
    "uasonepoint=OnePoint(uas,35,241)\n",
    "vasonepoint=OnePoint(vas,35,241)\n",
    "print(vasonepoint.keys())\n",
    "v1=np.array(uasonepoint['eastward_wind'])\n",
    "v2=np.array(vasonepoint['northward_wind'])"
   ]
  },
  {
   "cell_type": "code",
   "execution_count": 27,
   "id": "0450bcf3",
   "metadata": {
    "scrolled": true
   },
   "outputs": [
    {
     "name": "stdout",
     "output_type": "stream",
     "text": [
      "[ 3.1576238   2.519315    1.1324797  ... -0.2549028   0.74729025\n",
      " -1.0141366 ]\n",
      "[ 1.6314766  1.3058141  3.8229175 ...  2.4157531 -0.8421023  2.2008698]\n",
      "['2006-01-01T00:00:00.000000000' '2006-01-02T00:00:00.000000000'\n",
      " '2006-01-03T00:00:00.000000000' ... '2099-12-29T00:00:00.000000000'\n",
      " '2099-12-30T00:00:00.000000000' '2099-12-31T00:00:00.000000000']\n"
     ]
    }
   ],
   "source": [
    "print(v1)\n",
    "print(v2)\n",
    "print(Time)"
   ]
  }
 ],
 "metadata": {
  "kernelspec": {
   "display_name": "Python 3",
   "language": "python",
   "name": "python3"
  },
  "language_info": {
   "codemirror_mode": {
    "name": "ipython",
    "version": 3
   },
   "file_extension": ".py",
   "mimetype": "text/x-python",
   "name": "python",
   "nbconvert_exporter": "python",
   "pygments_lexer": "ipython3",
   "version": "3.8.10"
  }
 },
 "nbformat": 4,
 "nbformat_minor": 5
}
