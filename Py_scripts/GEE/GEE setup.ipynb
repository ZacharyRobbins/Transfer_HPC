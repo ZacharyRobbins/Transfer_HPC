{
 "cells": [
  {
   "cell_type": "code",
   "execution_count": 1,
   "id": "057f122d",
   "metadata": {},
   "outputs": [],
   "source": [
    "import os\n",
    "\n",
    "proxy = \"http://proxyout.lanl.gov:8080\"\n",
    "\n",
    "os.environ['http_proxy'] = proxy \n",
    "os.environ['HTTP_PROXY'] = proxy\n",
    "os.environ['https_proxy'] = proxy\n",
    "os.environ['HTTPS_PROXY'] = proxy"
   ]
  },
  {
   "cell_type": "code",
   "execution_count": 2,
   "id": "14743284",
   "metadata": {},
   "outputs": [
    {
     "ename": "ModuleNotFoundError",
     "evalue": "No module named 'ee'",
     "output_type": "error",
     "traceback": [
      "\u001b[1;31m---------------------------------------------------------------------------\u001b[0m",
      "\u001b[1;31mModuleNotFoundError\u001b[0m                       Traceback (most recent call last)",
      "\u001b[1;32m<ipython-input-2-f44cf4104019>\u001b[0m in \u001b[0;36m<module>\u001b[1;34m\u001b[0m\n\u001b[1;32m----> 1\u001b[1;33m \u001b[1;32mimport\u001b[0m \u001b[0mee\u001b[0m\u001b[1;33m\u001b[0m\u001b[1;33m\u001b[0m\u001b[0m\n\u001b[0m\u001b[0;32m      2\u001b[0m \u001b[1;31m#ee.Authenticate()\u001b[0m\u001b[1;33m\u001b[0m\u001b[1;33m\u001b[0m\u001b[1;33m\u001b[0m\u001b[0m\n\u001b[0;32m      3\u001b[0m \u001b[0mee\u001b[0m\u001b[1;33m.\u001b[0m\u001b[0mInitialize\u001b[0m\u001b[1;33m(\u001b[0m\u001b[1;33m)\u001b[0m\u001b[1;33m\u001b[0m\u001b[1;33m\u001b[0m\u001b[0m\n\u001b[0;32m      4\u001b[0m \u001b[1;32mimport\u001b[0m \u001b[0mgeemap\u001b[0m\u001b[1;33m\u001b[0m\u001b[1;33m\u001b[0m\u001b[0m\n\u001b[0;32m      5\u001b[0m \u001b[1;31m#geemap.update_package()\u001b[0m\u001b[1;33m\u001b[0m\u001b[1;33m\u001b[0m\u001b[1;33m\u001b[0m\u001b[0m\n",
      "\u001b[1;31mModuleNotFoundError\u001b[0m: No module named 'ee'"
     ]
    }
   ],
   "source": [
    "import ee\n",
    "#ee.Authenticate()\n",
    "ee.Initialize()\n",
    "import geemap\n",
    "#geemap.update_package()\n",
    "import pandas as pd"
   ]
  },
  {
   "cell_type": "code",
   "execution_count": 3,
   "id": "051febdc",
   "metadata": {},
   "outputs": [],
   "source": [
    "states = ee.FeatureCollection(\"TIGER/2018/States\")\n",
    "landcover = ee.Image(\"ESA/GLOBCOVER_L4_200901_200912_V2_3\").select('landcover')"
   ]
  },
  {
   "cell_type": "code",
   "execution_count": 4,
   "id": "f50e3ffe",
   "metadata": {},
   "outputs": [
    {
     "data": {
      "application/vnd.jupyter.widget-view+json": {
       "model_id": "684e1a727e9749659cc091bd7b3f748d",
       "version_major": 2,
       "version_minor": 0
      },
      "text/plain": [
       "Map(center=[40, -100], controls=(WidgetControl(options=['position', 'transparent_bg'], widget=HBox(children=(T…"
      ]
     },
     "metadata": {},
     "output_type": "display_data"
    }
   ],
   "source": [
    "Map = geemap.Map(center=(40, -100), zoom=4)\n",
    "Map.addLayer(landcover, {}, 'Land cover')\n",
    "Map.addLayer(states, {}, \"US States\")\n",
    "Map"
   ]
  },
  {
   "cell_type": "markdown",
   "id": "422eee5e",
   "metadata": {},
   "source": [
    "MACA processor"
   ]
  },
  {
   "cell_type": "code",
   "execution_count": 31,
   "id": "ca8ee355",
   "metadata": {
    "scrolled": true
   },
   "outputs": [
    {
     "data": {
      "application/vnd.jupyter.widget-view+json": {
       "model_id": "968bcfccbc8d4c65a654a68de407c481",
       "version_major": 2,
       "version_minor": 0
      },
      "text/plain": [
       "Map(center=[40, -100], controls=(WidgetControl(options=['position', 'transparent_bg'], widget=HBox(children=(T…"
      ]
     },
     "metadata": {},
     "output_type": "display_data"
    }
   ],
   "source": [
    "YearZeroStart=pd.to_datetime('2050-08-01')\n",
    "YearZeroEnd= pd.to_datetime('2050-08-15')\n",
    "Lon=-77.2214\n",
    "Lat=37.2665\n",
    "\n",
    "\n",
    "\n",
    "AOI=ee.Geometry.Rectangle([Lon+.05, Lat-0.5, Lon-.05, Lat-0.5])\n",
    "#Create a buffer zone around a point, such\n",
    "\n",
    "\n",
    "MACA = ee.ImageCollection(\"IDAHO_EPSCOR/MACAv2_METDATA\")\n",
    "#xy = ee.Geometry.Point([Lon, Lat])\n",
    "sub=ee.ImageCollection(MACA.filterDate(YearZeroStart, YearZeroEnd)\n",
    "                       .filterMetadata('model','equals','inmcm4')\n",
    "                       .filterMetadata('scenario','equals','rcp45')\n",
    "                       .filterMetadata('ensemble','equals', 'r1i1p1' ))\n",
    "sub\n",
    "\n",
    "\n",
    "Map = geemap.Map(center=(40, -100), zoom=4)\n",
    "Map.addLayer(sub, {}, 'Land cover')\n",
    "Map.addLayer(AOI, {}, 'Land cover')\n",
    "#Map.addLayer(states, {}, \"US States\")\n",
    "Map\n",
    "\n",
    "#xt=xy.buffer(10)\n",
    "#xt=geemap.shp_to_ee(xt)\n",
    "#print(xt)\n",
    "#value = sub.get('tasmax');\n",
    "#out_csv = os.path.join('landsat.csv')\n",
    "#geemap.extract_values_to_points(xy, sub, out_csv)\n",
    "\n",
    "#var='tasmax'\n",
    "#def createTS(img):\n",
    "#  date = img.get('system_time_start')\n",
    "#  value = img.reduceRegion(ee.Reducer.mean(), AOI).get(var)\n",
    "  #ET = ee.Feature('null', {'system:time_start': date, \n",
    "   #                          'date': ee.Date(date).format('Y/M/d'), \n",
    "   #                          'value': value})\n",
    "#  return(value)\n",
    "#geemap.ee_to_numpy(value, region=AOI)\n",
    "#first=MACA.map(createTS)\n",
    "# print(first)"
   ]
  },
  {
   "cell_type": "code",
   "execution_count": 32,
   "id": "c61d0eaf",
   "metadata": {},
   "outputs": [],
   "source": [
    "def poi_mean(img):\n",
    "    mean = img.reduceRegion(reducer=ee.Reducer.mean(), geometry=AOI).get('tasmax')\n",
    "    return img.set('date', img.date().format()).set('mean',mean)"
   ]
  },
  {
   "cell_type": "code",
   "execution_count": 33,
   "id": "a3d591e6",
   "metadata": {},
   "outputs": [
    {
     "data": {
      "text/html": [
       "<div>\n",
       "<style scoped>\n",
       "    .dataframe tbody tr th:only-of-type {\n",
       "        vertical-align: middle;\n",
       "    }\n",
       "\n",
       "    .dataframe tbody tr th {\n",
       "        vertical-align: top;\n",
       "    }\n",
       "\n",
       "    .dataframe thead th {\n",
       "        text-align: right;\n",
       "    }\n",
       "</style>\n",
       "<table border=\"1\" class=\"dataframe\">\n",
       "  <thead>\n",
       "    <tr style=\"text-align: right;\">\n",
       "      <th></th>\n",
       "      <th>date</th>\n",
       "      <th>mean</th>\n",
       "    </tr>\n",
       "  </thead>\n",
       "  <tbody>\n",
       "    <tr>\n",
       "      <th>0</th>\n",
       "      <td>2050-08-01T00:00:00</td>\n",
       "      <td>302.262144</td>\n",
       "    </tr>\n",
       "    <tr>\n",
       "      <th>1</th>\n",
       "      <td>2050-08-02T00:00:00</td>\n",
       "      <td>305.727214</td>\n",
       "    </tr>\n",
       "    <tr>\n",
       "      <th>2</th>\n",
       "      <td>2050-08-03T00:00:00</td>\n",
       "      <td>304.529856</td>\n",
       "    </tr>\n",
       "    <tr>\n",
       "      <th>3</th>\n",
       "      <td>2050-08-04T00:00:00</td>\n",
       "      <td>302.555328</td>\n",
       "    </tr>\n",
       "    <tr>\n",
       "      <th>4</th>\n",
       "      <td>2050-08-05T00:00:00</td>\n",
       "      <td>302.448929</td>\n",
       "    </tr>\n",
       "    <tr>\n",
       "      <th>5</th>\n",
       "      <td>2050-08-06T00:00:00</td>\n",
       "      <td>304.211644</td>\n",
       "    </tr>\n",
       "    <tr>\n",
       "      <th>6</th>\n",
       "      <td>2050-08-07T00:00:00</td>\n",
       "      <td>304.173151</td>\n",
       "    </tr>\n",
       "    <tr>\n",
       "      <th>7</th>\n",
       "      <td>2050-08-08T00:00:00</td>\n",
       "      <td>305.670582</td>\n",
       "    </tr>\n",
       "    <tr>\n",
       "      <th>8</th>\n",
       "      <td>2050-08-09T00:00:00</td>\n",
       "      <td>306.912835</td>\n",
       "    </tr>\n",
       "    <tr>\n",
       "      <th>9</th>\n",
       "      <td>2050-08-10T00:00:00</td>\n",
       "      <td>308.319903</td>\n",
       "    </tr>\n",
       "    <tr>\n",
       "      <th>10</th>\n",
       "      <td>2050-08-11T00:00:00</td>\n",
       "      <td>306.523680</td>\n",
       "    </tr>\n",
       "    <tr>\n",
       "      <th>11</th>\n",
       "      <td>2050-08-12T00:00:00</td>\n",
       "      <td>303.834671</td>\n",
       "    </tr>\n",
       "    <tr>\n",
       "      <th>12</th>\n",
       "      <td>2050-08-13T00:00:00</td>\n",
       "      <td>308.735414</td>\n",
       "    </tr>\n",
       "    <tr>\n",
       "      <th>13</th>\n",
       "      <td>2050-08-14T00:00:00</td>\n",
       "      <td>305.956972</td>\n",
       "    </tr>\n",
       "  </tbody>\n",
       "</table>\n",
       "</div>"
      ],
      "text/plain": [
       "                   date        mean\n",
       "0   2050-08-01T00:00:00  302.262144\n",
       "1   2050-08-02T00:00:00  305.727214\n",
       "2   2050-08-03T00:00:00  304.529856\n",
       "3   2050-08-04T00:00:00  302.555328\n",
       "4   2050-08-05T00:00:00  302.448929\n",
       "5   2050-08-06T00:00:00  304.211644\n",
       "6   2050-08-07T00:00:00  304.173151\n",
       "7   2050-08-08T00:00:00  305.670582\n",
       "8   2050-08-09T00:00:00  306.912835\n",
       "9   2050-08-10T00:00:00  308.319903\n",
       "10  2050-08-11T00:00:00  306.523680\n",
       "11  2050-08-12T00:00:00  303.834671\n",
       "12  2050-08-13T00:00:00  308.735414\n",
       "13  2050-08-14T00:00:00  305.956972"
      ]
     },
     "execution_count": 33,
     "metadata": {},
     "output_type": "execute_result"
    }
   ],
   "source": [
    "poi_reduced_imgs = sub.map(poi_mean)\n",
    "nested_list = poi_reduced_imgs.reduceColumns(ee.Reducer.toList(2), ['date','mean']).values().get(0)\n",
    "df = pd.DataFrame(nested_list.getInfo(), columns=['date','mean'])\n",
    "\n",
    "df"
   ]
  }
 ],
 "metadata": {
  "kernelspec": {
   "display_name": "Python 3",
   "language": "python",
   "name": "python3"
  },
  "language_info": {
   "codemirror_mode": {
    "name": "ipython",
    "version": 3
   },
   "file_extension": ".py",
   "mimetype": "text/x-python",
   "name": "python",
   "nbconvert_exporter": "python",
   "pygments_lexer": "ipython3",
   "version": "3.8.10"
  }
 },
 "nbformat": 4,
 "nbformat_minor": 5
}
